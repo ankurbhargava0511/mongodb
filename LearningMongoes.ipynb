{
 "cells": [
  {
   "cell_type": "code",
   "execution_count": 2,
   "id": "1d2ae44e-05bf-48a5-a812-ac9a86b8d2cf",
   "metadata": {
    "tags": []
   },
   "outputs": [
    {
     "name": "stdout",
     "output_type": "stream",
     "text": [
      "Defaulting to user installation because normal site-packages is not writeable\n",
      "Collecting pymongo\n",
      "  Downloading pymongo-4.5.0-cp311-cp311-win_amd64.whl (468 kB)\n",
      "                                              0.0/468.2 kB ? eta -:--:--\n",
      "     ------                                  81.9/468.2 kB 2.3 MB/s eta 0:00:01\n",
      "     ----------------------                 276.5/468.2 kB 3.4 MB/s eta 0:00:01\n",
      "     -------------------------------------  460.8/468.2 kB 3.6 MB/s eta 0:00:01\n",
      "     -------------------------------------- 468.2/468.2 kB 3.3 MB/s eta 0:00:00\n",
      "Collecting dnspython<3.0.0,>=1.16.0 (from pymongo)\n",
      "  Downloading dnspython-2.4.2-py3-none-any.whl (300 kB)\n",
      "                                              0.0/300.4 kB ? eta -:--:--\n",
      "     -------------------------------------- 300.4/300.4 kB 9.4 MB/s eta 0:00:00\n",
      "Installing collected packages: dnspython, pymongo\n",
      "Successfully installed dnspython-2.4.2 pymongo-4.5.0\n",
      "Note: you may need to restart the kernel to use updated packages.\n"
     ]
    }
   ],
   "source": [
    "pip install pymongo\n"
   ]
  },
  {
   "cell_type": "code",
   "execution_count": 1,
   "id": "0c693b4c-b985-4425-a14e-527b614ffbf9",
   "metadata": {
    "tags": []
   },
   "outputs": [],
   "source": [
    "import pymongo"
   ]
  },
  {
   "cell_type": "code",
   "execution_count": 2,
   "id": "8ff27f91-6330-485b-9313-d27f7ed01fe8",
   "metadata": {
    "tags": []
   },
   "outputs": [],
   "source": [
    "from pymongo import MongoClient"
   ]
  },
  {
   "cell_type": "code",
   "execution_count": 3,
   "id": "a740c9ba-1700-4a49-922f-38149c8bbef1",
   "metadata": {
    "tags": []
   },
   "outputs": [],
   "source": [
    "client= MongoClient('localhost',27017)"
   ]
  },
  {
   "cell_type": "code",
   "execution_count": 8,
   "id": "cdfe7e73-fc3b-4fa1-99bf-6a4e8783458c",
   "metadata": {
    "tags": []
   },
   "outputs": [],
   "source": [
    "db=client[\"tempdb\"]"
   ]
  },
  {
   "cell_type": "code",
   "execution_count": 13,
   "id": "3a1c94d6-9086-4a9a-b479-f63cfab4a4d4",
   "metadata": {
    "tags": []
   },
   "outputs": [
    {
     "data": {
      "text/plain": [
       "Database(MongoClient(host=['localhost:27017'], document_class=dict, tz_aware=False, connect=True), 'tempdb')"
      ]
     },
     "execution_count": 13,
     "metadata": {},
     "output_type": "execute_result"
    }
   ],
   "source": [
    "db"
   ]
  },
  {
   "cell_type": "code",
   "execution_count": 9,
   "id": "cc9b6be2-c0fc-4453-b70c-c1ff1b8f5304",
   "metadata": {
    "tags": []
   },
   "outputs": [],
   "source": [
    "col=db[\"python\"]"
   ]
  },
  {
   "cell_type": "code",
   "execution_count": 12,
   "id": "508600e8-65d6-4696-81a2-1f7fe0a9a006",
   "metadata": {
    "tags": []
   },
   "outputs": [
    {
     "data": {
      "text/plain": [
       "<pymongo.results.InsertOneResult at 0x17a8d10fcd0>"
      ]
     },
     "execution_count": 12,
     "metadata": {},
     "output_type": "execute_result"
    }
   ],
   "source": [
    "col.insert_one({\"name\":\"test_name\", \"age\":35, \"phone\":467546746})"
   ]
  },
  {
   "cell_type": "code",
   "execution_count": 14,
   "id": "0dd9e5b4-63e3-41c6-bda3-8475f47541d1",
   "metadata": {
    "tags": []
   },
   "outputs": [
    {
     "data": {
      "text/plain": [
       "<pymongo.cursor.Cursor at 0x17a8ea07e50>"
      ]
     },
     "execution_count": 14,
     "metadata": {},
     "output_type": "execute_result"
    }
   ],
   "source": [
    "col.find()"
   ]
  },
  {
   "cell_type": "code",
   "execution_count": 15,
   "id": "348fc0bf-3b6d-4425-996c-2f9f74586771",
   "metadata": {
    "tags": []
   },
   "outputs": [
    {
     "data": {
      "text/plain": [
       "{'_id': ObjectId('651a897998cad171b3397545'),\n",
       " 'name': 'test_name',\n",
       " 'age': 35,\n",
       " 'phone': 467546746}"
      ]
     },
     "execution_count": 15,
     "metadata": {},
     "output_type": "execute_result"
    }
   ],
   "source": [
    "col.find_one()"
   ]
  },
  {
   "cell_type": "code",
   "execution_count": 17,
   "id": "b1b84bad-5f3d-4fc0-8905-945c77fea66e",
   "metadata": {
    "tags": []
   },
   "outputs": [
    {
     "data": {
      "text/plain": [
       "<pymongo.results.UpdateResult at 0x17a8d1e8670>"
      ]
     },
     "execution_count": 17,
     "metadata": {},
     "output_type": "execute_result"
    }
   ],
   "source": [
    "col.update_one({\"name\":\"test_name\"}, {'$set':{\"age\":45}})"
   ]
  },
  {
   "cell_type": "code",
   "execution_count": 18,
   "id": "c80b0c5f-f218-4063-8ea0-803684363c1f",
   "metadata": {
    "tags": []
   },
   "outputs": [
    {
     "data": {
      "text/plain": [
       "{'_id': ObjectId('651a897998cad171b3397545'),\n",
       " 'name': 'test_name',\n",
       " 'age': 45,\n",
       " 'phone': 467546746}"
      ]
     },
     "execution_count": 18,
     "metadata": {},
     "output_type": "execute_result"
    }
   ],
   "source": [
    "col.find_one()"
   ]
  },
  {
   "cell_type": "code",
   "execution_count": 19,
   "id": "9a465d6b-6bdb-426a-9d1d-a0163557e12d",
   "metadata": {
    "tags": []
   },
   "outputs": [
    {
     "data": {
      "text/plain": [
       "<pymongo.results.DeleteResult at 0x17a8dfd7ee0>"
      ]
     },
     "execution_count": 19,
     "metadata": {},
     "output_type": "execute_result"
    }
   ],
   "source": [
    "col.delete_one({\"name\":\"test_name\"})"
   ]
  },
  {
   "cell_type": "code",
   "execution_count": 20,
   "id": "ea425ad3-0bce-4ce6-8e31-2e60628c98fc",
   "metadata": {
    "tags": []
   },
   "outputs": [],
   "source": [
    "col.find_one()"
   ]
  },
  {
   "cell_type": "code",
   "execution_count": null,
   "id": "755a6402-c943-4cd7-86f2-1af9a66e43d5",
   "metadata": {},
   "outputs": [],
   "source": []
  }
 ],
 "metadata": {
  "kernelspec": {
   "display_name": "Python 3 (ipykernel)",
   "language": "python",
   "name": "python3"
  },
  "language_info": {
   "codemirror_mode": {
    "name": "ipython",
    "version": 3
   },
   "file_extension": ".py",
   "mimetype": "text/x-python",
   "name": "python",
   "nbconvert_exporter": "python",
   "pygments_lexer": "ipython3",
   "version": "3.11.3"
  }
 },
 "nbformat": 4,
 "nbformat_minor": 5
}
